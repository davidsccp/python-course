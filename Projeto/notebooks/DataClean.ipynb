{
 "cells": [
  {
   "cell_type": "code",
   "execution_count": 1,
   "metadata": {},
   "outputs": [],
   "source": [
    "import pandas as pd\n",
    "import datetime\n",
    "import numpy as np"
   ]
  },
  {
   "cell_type": "code",
   "execution_count": 2,
   "metadata": {},
   "outputs": [
    {
     "data": {
      "text/html": [
       "<div>\n",
       "<style scoped>\n",
       "    .dataframe tbody tr th:only-of-type {\n",
       "        vertical-align: middle;\n",
       "    }\n",
       "\n",
       "    .dataframe tbody tr th {\n",
       "        vertical-align: top;\n",
       "    }\n",
       "\n",
       "    .dataframe thead th {\n",
       "        text-align: right;\n",
       "    }\n",
       "</style>\n",
       "<table border=\"1\" class=\"dataframe\">\n",
       "  <thead>\n",
       "    <tr style=\"text-align: right;\">\n",
       "      <th></th>\n",
       "      <th>year</th>\n",
       "      <th>month</th>\n",
       "      <th>day</th>\n",
       "      <th>dep_time</th>\n",
       "      <th>dep_delay</th>\n",
       "      <th>arr_time</th>\n",
       "      <th>arr_delay</th>\n",
       "      <th>carrier</th>\n",
       "      <th>tailnum</th>\n",
       "      <th>flight</th>\n",
       "      <th>origin</th>\n",
       "      <th>dest</th>\n",
       "      <th>air_time</th>\n",
       "      <th>distance</th>\n",
       "      <th>hour</th>\n",
       "      <th>minute</th>\n",
       "    </tr>\n",
       "  </thead>\n",
       "  <tbody>\n",
       "    <tr>\n",
       "      <th>1</th>\n",
       "      <td>2013</td>\n",
       "      <td>1</td>\n",
       "      <td>1</td>\n",
       "      <td>517.0</td>\n",
       "      <td>2.0</td>\n",
       "      <td>830.0</td>\n",
       "      <td>11.0</td>\n",
       "      <td>UA</td>\n",
       "      <td>N14228</td>\n",
       "      <td>1545</td>\n",
       "      <td>EWR</td>\n",
       "      <td>IAH</td>\n",
       "      <td>227.0</td>\n",
       "      <td>1400</td>\n",
       "      <td>5.0</td>\n",
       "      <td>17.0</td>\n",
       "    </tr>\n",
       "    <tr>\n",
       "      <th>2</th>\n",
       "      <td>2013</td>\n",
       "      <td>1</td>\n",
       "      <td>1</td>\n",
       "      <td>533.0</td>\n",
       "      <td>4.0</td>\n",
       "      <td>850.0</td>\n",
       "      <td>20.0</td>\n",
       "      <td>UA</td>\n",
       "      <td>N24211</td>\n",
       "      <td>1714</td>\n",
       "      <td>LGA</td>\n",
       "      <td>IAH</td>\n",
       "      <td>227.0</td>\n",
       "      <td>1416</td>\n",
       "      <td>5.0</td>\n",
       "      <td>33.0</td>\n",
       "    </tr>\n",
       "    <tr>\n",
       "      <th>3</th>\n",
       "      <td>2013</td>\n",
       "      <td>1</td>\n",
       "      <td>1</td>\n",
       "      <td>542.0</td>\n",
       "      <td>2.0</td>\n",
       "      <td>923.0</td>\n",
       "      <td>33.0</td>\n",
       "      <td>AA</td>\n",
       "      <td>N619AA</td>\n",
       "      <td>1141</td>\n",
       "      <td>JFK</td>\n",
       "      <td>MIA</td>\n",
       "      <td>160.0</td>\n",
       "      <td>1089</td>\n",
       "      <td>5.0</td>\n",
       "      <td>42.0</td>\n",
       "    </tr>\n",
       "    <tr>\n",
       "      <th>4</th>\n",
       "      <td>2013</td>\n",
       "      <td>1</td>\n",
       "      <td>1</td>\n",
       "      <td>544.0</td>\n",
       "      <td>-1.0</td>\n",
       "      <td>1004.0</td>\n",
       "      <td>-18.0</td>\n",
       "      <td>B6</td>\n",
       "      <td>N804JB</td>\n",
       "      <td>725</td>\n",
       "      <td>JFK</td>\n",
       "      <td>BQN</td>\n",
       "      <td>183.0</td>\n",
       "      <td>1576</td>\n",
       "      <td>5.0</td>\n",
       "      <td>44.0</td>\n",
       "    </tr>\n",
       "    <tr>\n",
       "      <th>5</th>\n",
       "      <td>2013</td>\n",
       "      <td>1</td>\n",
       "      <td>1</td>\n",
       "      <td>554.0</td>\n",
       "      <td>-6.0</td>\n",
       "      <td>812.0</td>\n",
       "      <td>-25.0</td>\n",
       "      <td>DL</td>\n",
       "      <td>N668DN</td>\n",
       "      <td>461</td>\n",
       "      <td>LGA</td>\n",
       "      <td>ATL</td>\n",
       "      <td>116.0</td>\n",
       "      <td>762</td>\n",
       "      <td>5.0</td>\n",
       "      <td>54.0</td>\n",
       "    </tr>\n",
       "  </tbody>\n",
       "</table>\n",
       "</div>"
      ],
      "text/plain": [
       "   year  month  day  dep_time  dep_delay  arr_time  arr_delay carrier tailnum  \\\n",
       "1  2013      1    1     517.0        2.0     830.0       11.0      UA  N14228   \n",
       "2  2013      1    1     533.0        4.0     850.0       20.0      UA  N24211   \n",
       "3  2013      1    1     542.0        2.0     923.0       33.0      AA  N619AA   \n",
       "4  2013      1    1     544.0       -1.0    1004.0      -18.0      B6  N804JB   \n",
       "5  2013      1    1     554.0       -6.0     812.0      -25.0      DL  N668DN   \n",
       "\n",
       "   flight origin dest  air_time  distance  hour  minute  \n",
       "1    1545    EWR  IAH     227.0      1400   5.0    17.0  \n",
       "2    1714    LGA  IAH     227.0      1416   5.0    33.0  \n",
       "3    1141    JFK  MIA     160.0      1089   5.0    42.0  \n",
       "4     725    JFK  BQN     183.0      1576   5.0    44.0  \n",
       "5     461    LGA  ATL     116.0       762   5.0    54.0  "
      ]
     },
     "execution_count": 2,
     "metadata": {},
     "output_type": "execute_result"
    }
   ],
   "source": [
    "df = pd.read_csv(\n",
    "    \"https://raw.githubusercontent.com/JackyP/testing/master/datasets/nycflights.csv\",\n",
    "    index_col=0\n",
    "    )\n",
    "df.head()"
   ]
  },
  {
   "cell_type": "code",
   "execution_count": 3,
   "metadata": {},
   "outputs": [
    {
     "name": "stdout",
     "output_type": "stream",
     "text": [
      "<class 'pandas.core.frame.DataFrame'>\n",
      "Index: 336776 entries, 1 to 336776\n",
      "Data columns (total 16 columns):\n",
      " #   Column     Non-Null Count   Dtype  \n",
      "---  ------     --------------   -----  \n",
      " 0   year       336776 non-null  int64  \n",
      " 1   month      336776 non-null  int64  \n",
      " 2   day        336776 non-null  int64  \n",
      " 3   dep_time   328521 non-null  float64\n",
      " 4   dep_delay  328521 non-null  float64\n",
      " 5   arr_time   328063 non-null  float64\n",
      " 6   arr_delay  327346 non-null  float64\n",
      " 7   carrier    336776 non-null  object \n",
      " 8   tailnum    334264 non-null  object \n",
      " 9   flight     336776 non-null  int64  \n",
      " 10  origin     336776 non-null  object \n",
      " 11  dest       336776 non-null  object \n",
      " 12  air_time   327346 non-null  float64\n",
      " 13  distance   336776 non-null  int64  \n",
      " 14  hour       328521 non-null  float64\n",
      " 15  minute     328521 non-null  float64\n",
      "dtypes: float64(7), int64(5), object(4)\n",
      "memory usage: 43.7+ MB\n"
     ]
    }
   ],
   "source": [
    "df.info()"
   ]
  },
  {
   "cell_type": "markdown",
   "metadata": {},
   "source": [
    "### Seleção de colunas & observações\n",
    "\n",
    "1. Colunas de interesse:\n",
    "- year\n",
    "- month\n",
    "- day\n",
    "- hour\n",
    "- minute\n",
    "- dep_delay\n",
    "- arr_delay\n",
    "- carrier\n",
    "- flight\n",
    "- air_time\n",
    "- distance\n",
    "- origin\n",
    "- dest\n",
    "2. Campos que não devem ser nulos:\n",
    "- carrier\n",
    "- flight\n",
    "- year\n",
    "- hour\n",
    "- minute\n",
    "3. Campos que devem ser positivos:\n",
    "- air_time"
   ]
  },
  {
   "cell_type": "code",
   "execution_count": 4,
   "metadata": {},
   "outputs": [],
   "source": [
    "usecols=[\"year\", \"month\",  \"day\", \"hour\", \"minute\",\"arr_delay\",\"carrier\",\"flight\",\"air_time\",\"distance\", \"origin\", \"dest\"]"
   ]
  },
  {
   "cell_type": "code",
   "execution_count": 5,
   "metadata": {},
   "outputs": [],
   "source": [
    "df_raw = df.loc[\n",
    "    (~df[\"carrier\"].isna()) \\\n",
    "    & (~df[\"flight\"].isna()) \\\n",
    "    & (~df[\"year\"].isna()) \\\n",
    "    & (~df[\"hour\"].isna()) \\\n",
    "    & (~df[\"minute\"].isna()) \\\n",
    "    & (~df[\"month\"].isna()) \\\n",
    "    & (~df[\"day\"].isna()) \\\n",
    "    & (df[\"air_time\"] > 0)\n",
    "].loc[:, usecols]"
   ]
  },
  {
   "cell_type": "code",
   "execution_count": 6,
   "metadata": {},
   "outputs": [
    {
     "name": "stdout",
     "output_type": "stream",
     "text": [
      "<class 'pandas.core.frame.DataFrame'>\n",
      "Index: 327346 entries, 1 to 336770\n",
      "Data columns (total 12 columns):\n",
      " #   Column     Non-Null Count   Dtype  \n",
      "---  ------     --------------   -----  \n",
      " 0   year       327346 non-null  int64  \n",
      " 1   month      327346 non-null  int64  \n",
      " 2   day        327346 non-null  int64  \n",
      " 3   hour       327346 non-null  float64\n",
      " 4   minute     327346 non-null  float64\n",
      " 5   arr_delay  327346 non-null  float64\n",
      " 6   carrier    327346 non-null  object \n",
      " 7   flight     327346 non-null  int64  \n",
      " 8   air_time   327346 non-null  float64\n",
      " 9   distance   327346 non-null  int64  \n",
      " 10  origin     327346 non-null  object \n",
      " 11  dest       327346 non-null  object \n",
      "dtypes: float64(4), int64(5), object(3)\n",
      "memory usage: 32.5+ MB\n"
     ]
    }
   ],
   "source": [
    "df_raw.info()"
   ]
  },
  {
   "cell_type": "code",
   "execution_count": 7,
   "metadata": {},
   "outputs": [],
   "source": [
    "df_raw.drop_duplicates(inplace=True)"
   ]
  },
  {
   "cell_type": "code",
   "execution_count": 8,
   "metadata": {},
   "outputs": [],
   "source": [
    "df_raw = df_raw.astype(\"object\")"
   ]
  },
  {
   "cell_type": "code",
   "execution_count": 9,
   "metadata": {},
   "outputs": [],
   "source": [
    "tmp = df.loc[:, usecols].copy()\n",
    "tmp = tmp[tmp[\"air_time\"]>0]\n",
    "for col in [\"carrier\",\"flight\", \"year\", \"month\", \"day\" ,\"hour\", \"minute\"]:\n",
    "    tmp_df = tmp.loc[~df[col].isna()]\n",
    "    tmp = tmp_df.copy()"
   ]
  },
  {
   "cell_type": "code",
   "execution_count": 10,
   "metadata": {},
   "outputs": [],
   "source": [
    "tmp.drop_duplicates(inplace=True)"
   ]
  },
  {
   "cell_type": "code",
   "execution_count": 12,
   "metadata": {},
   "outputs": [
    {
     "name": "stdout",
     "output_type": "stream",
     "text": [
      "True\n",
      "(327346, 12)\n"
     ]
    }
   ],
   "source": [
    "print(tmp.shape[0] == df_raw.shape[0])\n",
    "print(df_raw.shape)"
   ]
  },
  {
   "cell_type": "markdown",
   "metadata": {},
   "source": [
    "### Criar uma coluna de date_time"
   ]
  },
  {
   "cell_type": "code",
   "execution_count": 12,
   "metadata": {},
   "outputs": [],
   "source": [
    "df_raw[\"date_time\"] =  pd.to_datetime(df_raw[[\"year\", \"month\", \"day\", \"hour\", \"minute\"]],  dayfirst=True)"
   ]
  },
  {
   "cell_type": "code",
   "execution_count": 13,
   "metadata": {},
   "outputs": [
    {
     "data": {
      "text/plain": [
       "1        2013-01-01 05:17:00\n",
       "2        2013-01-01 05:33:00\n",
       "3        2013-01-01 05:42:00\n",
       "4        2013-01-01 05:44:00\n",
       "5        2013-01-01 05:54:00\n",
       "                 ...        \n",
       "336766   2013-09-30 22:40:00\n",
       "336767   2013-09-30 22:40:00\n",
       "336768   2013-09-30 22:41:00\n",
       "336769   2013-09-30 23:07:00\n",
       "336770   2013-09-30 23:49:00\n",
       "Name: date_time, Length: 327346, dtype: datetime64[ns]"
      ]
     },
     "execution_count": 13,
     "metadata": {},
     "output_type": "execute_result"
    }
   ],
   "source": [
    "df_raw[\"date_time\"]"
   ]
  },
  {
   "cell_type": "code",
   "execution_count": 14,
   "metadata": {},
   "outputs": [],
   "source": [
    "usecols2 =[\"date_time\", \"arr_delay\",\"carrier\",\"flight\",\"air_time\",\"distance\", \"origin\", \"dest\" ]"
   ]
  },
  {
   "cell_type": "markdown",
   "metadata": {},
   "source": [
    "### Renamear colunas"
   ]
  },
  {
   "cell_type": "code",
   "execution_count": 15,
   "metadata": {},
   "outputs": [],
   "source": [
    "new_columns = [\"data_hora\", \"atraso_chegada\", \"companhia\", \"id_voo\",\"tempo_voo\", \"distancia\", \"origem\", \"destino\"]"
   ]
  },
  {
   "cell_type": "code",
   "execution_count": 16,
   "metadata": {},
   "outputs": [
    {
     "data": {
      "text/plain": [
       "{'date_time': 'data_hora',\n",
       " 'arr_delay': 'atraso_chegada',\n",
       " 'carrier': 'companhia',\n",
       " 'flight': 'id_voo',\n",
       " 'air_time': 'tempo_voo',\n",
       " 'distance': 'distancia',\n",
       " 'origin': 'origem',\n",
       " 'dest': 'destino'}"
      ]
     },
     "execution_count": 16,
     "metadata": {},
     "output_type": "execute_result"
    }
   ],
   "source": [
    "columns_map = {usecols2[i]: new_columns[i] for i in range(len(usecols2))}\n",
    "columns_map"
   ]
  },
  {
   "cell_type": "code",
   "execution_count": 17,
   "metadata": {},
   "outputs": [
    {
     "data": {
      "text/html": [
       "<div>\n",
       "<style scoped>\n",
       "    .dataframe tbody tr th:only-of-type {\n",
       "        vertical-align: middle;\n",
       "    }\n",
       "\n",
       "    .dataframe tbody tr th {\n",
       "        vertical-align: top;\n",
       "    }\n",
       "\n",
       "    .dataframe thead th {\n",
       "        text-align: right;\n",
       "    }\n",
       "</style>\n",
       "<table border=\"1\" class=\"dataframe\">\n",
       "  <thead>\n",
       "    <tr style=\"text-align: right;\">\n",
       "      <th></th>\n",
       "      <th>data_hora</th>\n",
       "      <th>atraso_chegada</th>\n",
       "      <th>companhia</th>\n",
       "      <th>id_voo</th>\n",
       "      <th>tempo_voo</th>\n",
       "      <th>distancia</th>\n",
       "      <th>origem</th>\n",
       "      <th>destino</th>\n",
       "    </tr>\n",
       "  </thead>\n",
       "  <tbody>\n",
       "    <tr>\n",
       "      <th>1</th>\n",
       "      <td>2013-01-01 05:17:00</td>\n",
       "      <td>11.0</td>\n",
       "      <td>UA</td>\n",
       "      <td>1545</td>\n",
       "      <td>227.0</td>\n",
       "      <td>1400</td>\n",
       "      <td>EWR</td>\n",
       "      <td>IAH</td>\n",
       "    </tr>\n",
       "    <tr>\n",
       "      <th>2</th>\n",
       "      <td>2013-01-01 05:33:00</td>\n",
       "      <td>20.0</td>\n",
       "      <td>UA</td>\n",
       "      <td>1714</td>\n",
       "      <td>227.0</td>\n",
       "      <td>1416</td>\n",
       "      <td>LGA</td>\n",
       "      <td>IAH</td>\n",
       "    </tr>\n",
       "    <tr>\n",
       "      <th>3</th>\n",
       "      <td>2013-01-01 05:42:00</td>\n",
       "      <td>33.0</td>\n",
       "      <td>AA</td>\n",
       "      <td>1141</td>\n",
       "      <td>160.0</td>\n",
       "      <td>1089</td>\n",
       "      <td>JFK</td>\n",
       "      <td>MIA</td>\n",
       "    </tr>\n",
       "    <tr>\n",
       "      <th>4</th>\n",
       "      <td>2013-01-01 05:44:00</td>\n",
       "      <td>-18.0</td>\n",
       "      <td>B6</td>\n",
       "      <td>725</td>\n",
       "      <td>183.0</td>\n",
       "      <td>1576</td>\n",
       "      <td>JFK</td>\n",
       "      <td>BQN</td>\n",
       "    </tr>\n",
       "    <tr>\n",
       "      <th>5</th>\n",
       "      <td>2013-01-01 05:54:00</td>\n",
       "      <td>-25.0</td>\n",
       "      <td>DL</td>\n",
       "      <td>461</td>\n",
       "      <td>116.0</td>\n",
       "      <td>762</td>\n",
       "      <td>LGA</td>\n",
       "      <td>ATL</td>\n",
       "    </tr>\n",
       "  </tbody>\n",
       "</table>\n",
       "</div>"
      ],
      "text/plain": [
       "            data_hora atraso_chegada companhia id_voo tempo_voo distancia  \\\n",
       "1 2013-01-01 05:17:00           11.0        UA   1545     227.0      1400   \n",
       "2 2013-01-01 05:33:00           20.0        UA   1714     227.0      1416   \n",
       "3 2013-01-01 05:42:00           33.0        AA   1141     160.0      1089   \n",
       "4 2013-01-01 05:44:00          -18.0        B6    725     183.0      1576   \n",
       "5 2013-01-01 05:54:00          -25.0        DL    461     116.0       762   \n",
       "\n",
       "  origem destino  \n",
       "1    EWR     IAH  \n",
       "2    LGA     IAH  \n",
       "3    JFK     MIA  \n",
       "4    JFK     BQN  \n",
       "5    LGA     ATL  "
      ]
     },
     "execution_count": 17,
     "metadata": {},
     "output_type": "execute_result"
    }
   ],
   "source": [
    "df_work = df_raw.loc[:, usecols2].copy()\n",
    "df_work.rename(columns=columns_map, inplace=True)\n",
    "df_work.head()"
   ]
  },
  {
   "cell_type": "markdown",
   "metadata": {},
   "source": [
    "### Definir tipos das variáveis"
   ]
  },
  {
   "cell_type": "code",
   "execution_count": 18,
   "metadata": {},
   "outputs": [
    {
     "data": {
      "text/plain": [
       "data_hora         datetime64[ns]\n",
       "atraso_chegada            object\n",
       "companhia                 object\n",
       "id_voo                    object\n",
       "tempo_voo                 object\n",
       "distancia                 object\n",
       "origem                    object\n",
       "destino                   object\n",
       "dtype: object"
      ]
     },
     "execution_count": 18,
     "metadata": {},
     "output_type": "execute_result"
    }
   ],
   "source": [
    "df_work.dtypes"
   ]
  },
  {
   "cell_type": "code",
   "execution_count": 19,
   "metadata": {},
   "outputs": [],
   "source": [
    "df_work[\"distancia\"] = df_work.loc[:,\"distancia\"].astype(float)\n",
    "df_work[\"companhia\"] = df_work.loc[:,\"companhia\"].astype(str)\n",
    "df_work[\"id_voo\"] = df_work.loc[:,\"id_voo\"].astype(str)\n",
    "df_work[\"atraso_chegada\"] = df_work.loc[:,\"atraso_chegada\"].astype(str)\n",
    "df_work[\"origem\"] = df_work.loc[:,\"origem\"].astype(str)\n",
    "df_work[\"destino\"] = df_work.loc[:,\"destino\"].astype(str)"
   ]
  },
  {
   "cell_type": "code",
   "execution_count": 20,
   "metadata": {},
   "outputs": [
    {
     "data": {
      "text/plain": [
       "data_hora         datetime64[ns]\n",
       "atraso_chegada            object\n",
       "companhia                 object\n",
       "id_voo                    object\n",
       "tempo_voo                 object\n",
       "distancia                float64\n",
       "origem                    object\n",
       "destino                   object\n",
       "dtype: object"
      ]
     },
     "execution_count": 20,
     "metadata": {},
     "output_type": "execute_result"
    }
   ],
   "source": [
    "df_work.dtypes"
   ]
  },
  {
   "cell_type": "markdown",
   "metadata": {},
   "source": [
    "### Tratamento strings\n",
    "\n",
    "Escrever e aplicar uma função para:\n",
    "- remover todos os caracteres eespeciais\n",
    "- padronizar uppercase"
   ]
  },
  {
   "cell_type": "code",
   "execution_count": 21,
   "metadata": {},
   "outputs": [],
   "source": [
    "import re\n",
    "\n",
    "def padroniza_str(obs):\n",
    "    return re.sub('[^A-Za-z0-9]+', '', obs.upper())"
   ]
  },
  {
   "cell_type": "code",
   "execution_count": 22,
   "metadata": {},
   "outputs": [
    {
     "data": {
      "text/plain": [
       "'AHSUW3NRRR'"
      ]
     },
     "execution_count": 22,
     "metadata": {},
     "output_type": "execute_result"
    }
   ],
   "source": [
    "padroniza_str(\"ahsuw! @ ++  ~ ç 3n!!rrr\")"
   ]
  },
  {
   "cell_type": "code",
   "execution_count": 23,
   "metadata": {},
   "outputs": [],
   "source": [
    "df_work[\"companhia\"] = df_work.loc[:,\"companhia\"].apply(lambda x: padroniza_str(x))\n",
    "df_work[\"id_voo\"] = df_work.loc[:,\"id_voo\"].apply(lambda x: padroniza_str(x))\n",
    "df_work[\"origem\"] = df_work.loc[:,\"origem\"].apply(lambda x: padroniza_str(x))\n",
    "df_work[\"destino\"] = df_work.loc[:,\"destino\"].apply(lambda x: padroniza_str(x))"
   ]
  },
  {
   "cell_type": "code",
   "execution_count": 24,
   "metadata": {},
   "outputs": [
    {
     "data": {
      "text/html": [
       "<div>\n",
       "<style scoped>\n",
       "    .dataframe tbody tr th:only-of-type {\n",
       "        vertical-align: middle;\n",
       "    }\n",
       "\n",
       "    .dataframe tbody tr th {\n",
       "        vertical-align: top;\n",
       "    }\n",
       "\n",
       "    .dataframe thead th {\n",
       "        text-align: right;\n",
       "    }\n",
       "</style>\n",
       "<table border=\"1\" class=\"dataframe\">\n",
       "  <thead>\n",
       "    <tr style=\"text-align: right;\">\n",
       "      <th></th>\n",
       "      <th>data_hora</th>\n",
       "      <th>atraso_chegada</th>\n",
       "      <th>companhia</th>\n",
       "      <th>id_voo</th>\n",
       "      <th>tempo_voo</th>\n",
       "      <th>distancia</th>\n",
       "      <th>origem</th>\n",
       "      <th>destino</th>\n",
       "    </tr>\n",
       "  </thead>\n",
       "  <tbody>\n",
       "    <tr>\n",
       "      <th>1</th>\n",
       "      <td>2013-01-01 05:17:00</td>\n",
       "      <td>11.0</td>\n",
       "      <td>UA</td>\n",
       "      <td>1545</td>\n",
       "      <td>227.0</td>\n",
       "      <td>1400.0</td>\n",
       "      <td>EWR</td>\n",
       "      <td>IAH</td>\n",
       "    </tr>\n",
       "    <tr>\n",
       "      <th>2</th>\n",
       "      <td>2013-01-01 05:33:00</td>\n",
       "      <td>20.0</td>\n",
       "      <td>UA</td>\n",
       "      <td>1714</td>\n",
       "      <td>227.0</td>\n",
       "      <td>1416.0</td>\n",
       "      <td>LGA</td>\n",
       "      <td>IAH</td>\n",
       "    </tr>\n",
       "    <tr>\n",
       "      <th>3</th>\n",
       "      <td>2013-01-01 05:42:00</td>\n",
       "      <td>33.0</td>\n",
       "      <td>AA</td>\n",
       "      <td>1141</td>\n",
       "      <td>160.0</td>\n",
       "      <td>1089.0</td>\n",
       "      <td>JFK</td>\n",
       "      <td>MIA</td>\n",
       "    </tr>\n",
       "    <tr>\n",
       "      <th>4</th>\n",
       "      <td>2013-01-01 05:44:00</td>\n",
       "      <td>-18.0</td>\n",
       "      <td>B6</td>\n",
       "      <td>725</td>\n",
       "      <td>183.0</td>\n",
       "      <td>1576.0</td>\n",
       "      <td>JFK</td>\n",
       "      <td>BQN</td>\n",
       "    </tr>\n",
       "    <tr>\n",
       "      <th>5</th>\n",
       "      <td>2013-01-01 05:54:00</td>\n",
       "      <td>-25.0</td>\n",
       "      <td>DL</td>\n",
       "      <td>461</td>\n",
       "      <td>116.0</td>\n",
       "      <td>762.0</td>\n",
       "      <td>LGA</td>\n",
       "      <td>ATL</td>\n",
       "    </tr>\n",
       "  </tbody>\n",
       "</table>\n",
       "</div>"
      ],
      "text/plain": [
       "            data_hora atraso_chegada companhia id_voo tempo_voo  distancia  \\\n",
       "1 2013-01-01 05:17:00           11.0        UA   1545     227.0     1400.0   \n",
       "2 2013-01-01 05:33:00           20.0        UA   1714     227.0     1416.0   \n",
       "3 2013-01-01 05:42:00           33.0        AA   1141     160.0     1089.0   \n",
       "4 2013-01-01 05:44:00          -18.0        B6    725     183.0     1576.0   \n",
       "5 2013-01-01 05:54:00          -25.0        DL    461     116.0      762.0   \n",
       "\n",
       "  origem destino  \n",
       "1    EWR     IAH  \n",
       "2    LGA     IAH  \n",
       "3    JFK     MIA  \n",
       "4    JFK     BQN  \n",
       "5    LGA     ATL  "
      ]
     },
     "execution_count": 24,
     "metadata": {},
     "output_type": "execute_result"
    }
   ],
   "source": [
    "df_work.head()"
   ]
  },
  {
   "cell_type": "code",
   "execution_count": 25,
   "metadata": {},
   "outputs": [],
   "source": [
    "df_work.to_csv(\"base_tratada.csv\", index=False)"
   ]
  },
  {
   "cell_type": "markdown",
   "metadata": {},
   "source": [
    "### Validações\n",
    "\n",
    "1. Validar se as colunas de interesse estão na base.\n",
    "2. Validar se a seleção de observações não nulas e não positivas não exclui mais do que 5% da base.\n",
    "3. Utilizar a função logging para armarzenar os erros e a quantidade de registros inseridos."
   ]
  },
  {
   "cell_type": "code",
   "execution_count": 26,
   "metadata": {},
   "outputs": [],
   "source": [
    "import logging\n",
    "\n",
    "logging.basicConfig(filename='flights_pipe.log', level=logging.INFO) #vai criar um arquivo para os logs\n",
    "logger = logging.getLogger()"
   ]
  },
  {
   "cell_type": "code",
   "execution_count": 27,
   "metadata": {},
   "outputs": [],
   "source": [
    "logger.info(f'Inicio da execução ; {datetime.datetime.now()}')"
   ]
  },
  {
   "cell_type": "code",
   "execution_count": 28,
   "metadata": {},
   "outputs": [],
   "source": [
    "#Gera uma falha no processo\n",
    "if not set(usecols).issubset(set(df.columns)):\n",
    "    logger.error(f\"Mudança de schema; {datetime.datetime.now()} \")\n",
    "    raise Exception(\"Mudança de schema\")"
   ]
  },
  {
   "cell_type": "code",
   "execution_count": 29,
   "metadata": {},
   "outputs": [
    {
     "data": {
      "text/plain": [
       "0.02800080765850299"
      ]
     },
     "execution_count": 29,
     "metadata": {},
     "output_type": "execute_result"
    }
   ],
   "source": [
    "1 - len(df_raw)/len(df)"
   ]
  },
  {
   "cell_type": "code",
   "execution_count": 30,
   "metadata": {},
   "outputs": [],
   "source": [
    "if 1 - len(df_raw)/len(df) > 0.05:\n",
    "    logger.warning(f\"Muitas observações perdidas na seleção; {datetime.datetime.now()} \")"
   ]
  }
 ],
 "metadata": {
  "kernelspec": {
   "display_name": "base",
   "language": "python",
   "name": "python3"
  },
  "language_info": {
   "codemirror_mode": {
    "name": "ipython",
    "version": 3
   },
   "file_extension": ".py",
   "mimetype": "text/x-python",
   "name": "python",
   "nbconvert_exporter": "python",
   "pygments_lexer": "ipython3",
   "version": "3.12.4"
  }
 },
 "nbformat": 4,
 "nbformat_minor": 2
}
